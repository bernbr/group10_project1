{
 "cells": [
  {
   "cell_type": "code",
   "execution_count": 1,
   "id": "299d075f",
   "metadata": {},
   "outputs": [],
   "source": [
    "# Import Dependancies\n",
    "import pandas as pd\n",
    "import matplotlib.pyplot as plt\n",
    "import numpy as np\n",
    "import scipy.stats as st"
   ]
  },
  {
   "cell_type": "code",
   "execution_count": 2,
   "id": "e4f0fde0",
   "metadata": {},
   "outputs": [],
   "source": [
    "# Read CSV.files\n",
    "aob_2010 = pd.read_csv(\"data/aob_2010.csv\")\n",
    "aob_2015 = pd.read_csv(\"data/aob_2015.csv\")\n",
    "aob_2020 = pd.read_csv(\"data/aob_2020.csv\")\n",
    "nob_2010 = pd.read_csv(\"data/nob_2010.csv\")\n",
    "nob_2015 = pd.read_csv(\"data/nob_2015.csv\")\n",
    "nob_2020 = pd.read_csv(\"data/nob_2020.csv\")"
   ]
  },
  {
   "cell_type": "code",
   "execution_count": 3,
   "id": "7e8717cd",
   "metadata": {},
   "outputs": [],
   "source": [
    "# Merged Files\n",
    "df_2010 = pd.merge(aob_2010, nob_2010, on=[\"State or area\", \"County\"], how='outer')\n",
    "df_2015 = pd.merge(aob_2015, nob_2015, on=[\"State or area\", \"County\"], how='outer')\n",
    "df_2020 = pd.merge(aob_2020, nob_2020, on=[\"State or area\", \"County\"], how='outer')"
   ]
  },
  {
   "cell_type": "code",
   "execution_count": null,
   "id": "b3e17b05",
   "metadata": {},
   "outputs": [],
   "source": []
  }
 ],
 "metadata": {
  "kernelspec": {
   "display_name": "Python 3 (ipykernel)",
   "language": "python",
   "name": "python3"
  },
  "language_info": {
   "codemirror_mode": {
    "name": "ipython",
    "version": 3
   },
   "file_extension": ".py",
   "mimetype": "text/x-python",
   "name": "python",
   "nbconvert_exporter": "python",
   "pygments_lexer": "ipython3",
   "version": "3.7.7"
  }
 },
 "nbformat": 4,
 "nbformat_minor": 5
}
